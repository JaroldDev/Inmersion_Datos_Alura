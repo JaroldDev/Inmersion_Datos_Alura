{
 "cells": [
  {
   "cell_type": "code",
   "execution_count": 4,
   "metadata": {},
   "outputs": [
    {
     "data": {
      "text/html": [
       "<div>\n",
       "<style scoped>\n",
       "    .dataframe tbody tr th:only-of-type {\n",
       "        vertical-align: middle;\n",
       "    }\n",
       "\n",
       "    .dataframe tbody tr th {\n",
       "        vertical-align: top;\n",
       "    }\n",
       "\n",
       "    .dataframe thead th {\n",
       "        text-align: right;\n",
       "    }\n",
       "</style>\n",
       "<table border=\"1\" class=\"dataframe\">\n",
       "  <thead>\n",
       "    <tr style=\"text-align: right;\">\n",
       "      <th></th>\n",
       "      <th>Tipo</th>\n",
       "      <th>Descripcion</th>\n",
       "      <th>Habitaciones</th>\n",
       "      <th>Baños</th>\n",
       "      <th>Área</th>\n",
       "      <th>Barrio</th>\n",
       "      <th>UPZ</th>\n",
       "      <th>Valor</th>\n",
       "    </tr>\n",
       "  </thead>\n",
       "  <tbody>\n",
       "    <tr>\n",
       "      <th>0</th>\n",
       "      <td>Apartamento</td>\n",
       "      <td>Apartamento en venta en Zona Noroccidental</td>\n",
       "      <td>3</td>\n",
       "      <td>2</td>\n",
       "      <td>70</td>\n",
       "      <td>Zona Noroccidental</td>\n",
       "      <td>CHAPINERO: Pardo Rubio + Chapinero</td>\n",
       "      <td>$ 360.000.000</td>\n",
       "    </tr>\n",
       "    <tr>\n",
       "      <th>1</th>\n",
       "      <td>Casa</td>\n",
       "      <td>Casa en venta en Castilla</td>\n",
       "      <td>4</td>\n",
       "      <td>3</td>\n",
       "      <td>170</td>\n",
       "      <td>Castilla</td>\n",
       "      <td>KENNEDY: Castilla + Bavaria</td>\n",
       "      <td>$ 670.000.000</td>\n",
       "    </tr>\n",
       "    <tr>\n",
       "      <th>2</th>\n",
       "      <td>Apartamento</td>\n",
       "      <td>Apartamento en venta en Chico Reservado</td>\n",
       "      <td>3</td>\n",
       "      <td>3</td>\n",
       "      <td>144</td>\n",
       "      <td>Chico Reservado</td>\n",
       "      <td>CHAPINERO: Chicó Lago + El Refugio</td>\n",
       "      <td>$ 1.120.000.000</td>\n",
       "    </tr>\n",
       "    <tr>\n",
       "      <th>3</th>\n",
       "      <td>Apartamento</td>\n",
       "      <td>Apartamento en venta en Usaquén</td>\n",
       "      <td>3</td>\n",
       "      <td>2</td>\n",
       "      <td>154</td>\n",
       "      <td>Usaquén</td>\n",
       "      <td>Usaquén</td>\n",
       "      <td>$ 890.000.000</td>\n",
       "    </tr>\n",
       "    <tr>\n",
       "      <th>4</th>\n",
       "      <td>Apartamento</td>\n",
       "      <td>Apartamento en venta en Bella Suiza</td>\n",
       "      <td>2</td>\n",
       "      <td>3</td>\n",
       "      <td>128</td>\n",
       "      <td>Bella Suiza</td>\n",
       "      <td>USAQUÉN: Country Club + Santa Bárbara</td>\n",
       "      <td>$ 970.000.000</td>\n",
       "    </tr>\n",
       "  </tbody>\n",
       "</table>\n",
       "</div>"
      ],
      "text/plain": [
       "          Tipo                                 Descripcion  Habitaciones  \\\n",
       "0  Apartamento  Apartamento en venta en Zona Noroccidental             3   \n",
       "1         Casa                   Casa en venta en Castilla             4   \n",
       "2  Apartamento     Apartamento en venta en Chico Reservado             3   \n",
       "3  Apartamento             Apartamento en venta en Usaquén             3   \n",
       "4  Apartamento         Apartamento en venta en Bella Suiza             2   \n",
       "\n",
       "   Baños  Área              Barrio                                    UPZ  \\\n",
       "0      2    70  Zona Noroccidental     CHAPINERO: Pardo Rubio + Chapinero   \n",
       "1      3   170            Castilla            KENNEDY: Castilla + Bavaria   \n",
       "2      3   144     Chico Reservado     CHAPINERO: Chicó Lago + El Refugio   \n",
       "3      2   154             Usaquén                                Usaquén   \n",
       "4      3   128         Bella Suiza  USAQUÉN: Country Club + Santa Bárbara   \n",
       "\n",
       "             Valor  \n",
       "0    $ 360.000.000  \n",
       "1    $ 670.000.000  \n",
       "2  $ 1.120.000.000  \n",
       "3    $ 890.000.000  \n",
       "4    $ 970.000.000  "
      ]
     },
     "execution_count": 4,
     "metadata": {},
     "output_type": "execute_result"
    }
   ],
   "source": [
    "import pandas as pd\n",
    "inmuebles = pd.read_csv('inmuebles_bogota.csv')\n",
    "inmuebles.head()"
   ]
  },
  {
   "cell_type": "code",
   "execution_count": 5,
   "metadata": {},
   "outputs": [
    {
     "data": {
      "text/plain": [
       "(9520, 8)"
      ]
     },
     "execution_count": 5,
     "metadata": {},
     "output_type": "execute_result"
    }
   ],
   "source": [
    "inmuebles.shape"
   ]
  },
  {
   "cell_type": "code",
   "execution_count": 6,
   "metadata": {},
   "outputs": [
    {
     "data": {
      "text/plain": [
       "Index(['Tipo', 'Descripcion', 'Habitaciones', 'Baños', 'Área', 'Barrio', 'UPZ',\n",
       "       'Valor'],\n",
       "      dtype='object')"
      ]
     },
     "execution_count": 6,
     "metadata": {},
     "output_type": "execute_result"
    }
   ],
   "source": [
    "inmuebles.columns"
   ]
  },
  {
   "cell_type": "code",
   "execution_count": 7,
   "metadata": {},
   "outputs": [
    {
     "data": {
      "text/html": [
       "<div>\n",
       "<style scoped>\n",
       "    .dataframe tbody tr th:only-of-type {\n",
       "        vertical-align: middle;\n",
       "    }\n",
       "\n",
       "    .dataframe tbody tr th {\n",
       "        vertical-align: top;\n",
       "    }\n",
       "\n",
       "    .dataframe thead th {\n",
       "        text-align: right;\n",
       "    }\n",
       "</style>\n",
       "<table border=\"1\" class=\"dataframe\">\n",
       "  <thead>\n",
       "    <tr style=\"text-align: right;\">\n",
       "      <th></th>\n",
       "      <th>Tipo</th>\n",
       "      <th>Descripcion</th>\n",
       "      <th>Habitaciones</th>\n",
       "      <th>Banos</th>\n",
       "      <th>Area</th>\n",
       "      <th>Barrio</th>\n",
       "      <th>UPZ</th>\n",
       "      <th>Valor</th>\n",
       "    </tr>\n",
       "  </thead>\n",
       "  <tbody>\n",
       "    <tr>\n",
       "      <th>819</th>\n",
       "      <td>Apartamento</td>\n",
       "      <td>Apartamento en venta en Barrancas</td>\n",
       "      <td>3</td>\n",
       "      <td>2</td>\n",
       "      <td>63</td>\n",
       "      <td>Barrancas</td>\n",
       "      <td>San Cristóbal Norte</td>\n",
       "      <td>$ 233.000.000</td>\n",
       "    </tr>\n",
       "    <tr>\n",
       "      <th>4132</th>\n",
       "      <td>Apartamento</td>\n",
       "      <td>Apartamento en venta en Usaquén</td>\n",
       "      <td>4</td>\n",
       "      <td>7</td>\n",
       "      <td>450</td>\n",
       "      <td>Usaquén</td>\n",
       "      <td>Usaquén</td>\n",
       "      <td>$ 2.200.000.000</td>\n",
       "    </tr>\n",
       "    <tr>\n",
       "      <th>2955</th>\n",
       "      <td>Apartamento</td>\n",
       "      <td>Apartamento en venta en Villa Alsacia</td>\n",
       "      <td>2</td>\n",
       "      <td>1</td>\n",
       "      <td>41</td>\n",
       "      <td>Villa Alsacia</td>\n",
       "      <td>KENNEDY: Castilla + Bavaria</td>\n",
       "      <td>$ 188.000.000</td>\n",
       "    </tr>\n",
       "    <tr>\n",
       "      <th>2772</th>\n",
       "      <td>Apartamento</td>\n",
       "      <td>Apartamento en venta en Ciudadela Colsubsidio</td>\n",
       "      <td>3</td>\n",
       "      <td>1</td>\n",
       "      <td>50</td>\n",
       "      <td>Ciudadela Colsubsidio</td>\n",
       "      <td>Bolivia</td>\n",
       "      <td>$ 195.000.000</td>\n",
       "    </tr>\n",
       "    <tr>\n",
       "      <th>8841</th>\n",
       "      <td>Apartamento</td>\n",
       "      <td>Apartamento en venta en Chapinero Central</td>\n",
       "      <td>2</td>\n",
       "      <td>2</td>\n",
       "      <td>68</td>\n",
       "      <td>Chapinero Central</td>\n",
       "      <td>Localidad Chapinero resto</td>\n",
       "      <td>$ 463.000.000</td>\n",
       "    </tr>\n",
       "    <tr>\n",
       "      <th>3957</th>\n",
       "      <td>Apartamento</td>\n",
       "      <td>Apartamento en venta en El Contador</td>\n",
       "      <td>2</td>\n",
       "      <td>3</td>\n",
       "      <td>86</td>\n",
       "      <td>El Contador</td>\n",
       "      <td>Los Cedros</td>\n",
       "      <td>$ 540.000.000</td>\n",
       "    </tr>\n",
       "    <tr>\n",
       "      <th>6136</th>\n",
       "      <td>Apartamento</td>\n",
       "      <td>Apartamento en venta en Kennedy</td>\n",
       "      <td>3</td>\n",
       "      <td>1</td>\n",
       "      <td>51</td>\n",
       "      <td>Kennedy</td>\n",
       "      <td>Kennedy Central</td>\n",
       "      <td>$ 177.000.000</td>\n",
       "    </tr>\n",
       "    <tr>\n",
       "      <th>8630</th>\n",
       "      <td>Apartamento</td>\n",
       "      <td>Apartamento en venta en Kennedy</td>\n",
       "      <td>3</td>\n",
       "      <td>1</td>\n",
       "      <td>45</td>\n",
       "      <td>Kennedy</td>\n",
       "      <td>Kennedy Central</td>\n",
       "      <td>$ 109.000.000</td>\n",
       "    </tr>\n",
       "    <tr>\n",
       "      <th>7893</th>\n",
       "      <td>Apartamento</td>\n",
       "      <td>Apartamento en venta en Usaquén</td>\n",
       "      <td>4</td>\n",
       "      <td>4</td>\n",
       "      <td>170</td>\n",
       "      <td>Usaquén</td>\n",
       "      <td>Usaquén</td>\n",
       "      <td>$ 780.000.000</td>\n",
       "    </tr>\n",
       "    <tr>\n",
       "      <th>5536</th>\n",
       "      <td>Apartamento</td>\n",
       "      <td>Apartamento en venta en Santa Barbara</td>\n",
       "      <td>3</td>\n",
       "      <td>2</td>\n",
       "      <td>174</td>\n",
       "      <td>Santa Barbara</td>\n",
       "      <td>USAQUÉN: Country Club + Santa Bárbara</td>\n",
       "      <td>$ 750.000.000</td>\n",
       "    </tr>\n",
       "  </tbody>\n",
       "</table>\n",
       "</div>"
      ],
      "text/plain": [
       "             Tipo                                    Descripcion  \\\n",
       "819   Apartamento              Apartamento en venta en Barrancas   \n",
       "4132  Apartamento                Apartamento en venta en Usaquén   \n",
       "2955  Apartamento          Apartamento en venta en Villa Alsacia   \n",
       "2772  Apartamento  Apartamento en venta en Ciudadela Colsubsidio   \n",
       "8841  Apartamento      Apartamento en venta en Chapinero Central   \n",
       "3957  Apartamento            Apartamento en venta en El Contador   \n",
       "6136  Apartamento                Apartamento en venta en Kennedy   \n",
       "8630  Apartamento                Apartamento en venta en Kennedy   \n",
       "7893  Apartamento                Apartamento en venta en Usaquén   \n",
       "5536  Apartamento          Apartamento en venta en Santa Barbara   \n",
       "\n",
       "      Habitaciones  Banos  Area                 Barrio  \\\n",
       "819              3      2    63              Barrancas   \n",
       "4132             4      7   450                Usaquén   \n",
       "2955             2      1    41          Villa Alsacia   \n",
       "2772             3      1    50  Ciudadela Colsubsidio   \n",
       "8841             2      2    68      Chapinero Central   \n",
       "3957             2      3    86            El Contador   \n",
       "6136             3      1    51                Kennedy   \n",
       "8630             3      1    45                Kennedy   \n",
       "7893             4      4   170                Usaquén   \n",
       "5536             3      2   174          Santa Barbara   \n",
       "\n",
       "                                        UPZ            Valor  \n",
       "819                     San Cristóbal Norte    $ 233.000.000  \n",
       "4132                                Usaquén  $ 2.200.000.000  \n",
       "2955            KENNEDY: Castilla + Bavaria    $ 188.000.000  \n",
       "2772                                Bolivia    $ 195.000.000  \n",
       "8841              Localidad Chapinero resto    $ 463.000.000  \n",
       "3957                             Los Cedros    $ 540.000.000  \n",
       "6136                        Kennedy Central    $ 177.000.000  \n",
       "8630                        Kennedy Central    $ 109.000.000  \n",
       "7893                                Usaquén    $ 780.000.000  \n",
       "5536  USAQUÉN: Country Club + Santa Bárbara    $ 750.000.000  "
      ]
     },
     "execution_count": 7,
     "metadata": {},
     "output_type": "execute_result"
    }
   ],
   "source": [
    "columnas = {'Baños':'Banos','Área':'Area'}\n",
    "inmuebles = inmuebles.rename(columns=columnas)\n",
    "inmuebles.sample(10)"
   ]
  },
  {
   "cell_type": "code",
   "execution_count": 8,
   "metadata": {},
   "outputs": [
    {
     "name": "stdout",
     "output_type": "stream",
     "text": [
      "<class 'pandas.core.frame.DataFrame'>\n",
      "RangeIndex: 9520 entries, 0 to 9519\n",
      "Data columns (total 8 columns):\n",
      " #   Column        Non-Null Count  Dtype \n",
      "---  ------        --------------  ----- \n",
      " 0   Tipo          9520 non-null   object\n",
      " 1   Descripcion   9520 non-null   object\n",
      " 2   Habitaciones  9520 non-null   int64 \n",
      " 3   Banos         9520 non-null   int64 \n",
      " 4   Area          9520 non-null   int64 \n",
      " 5   Barrio        9520 non-null   object\n",
      " 6   UPZ           9478 non-null   object\n",
      " 7   Valor         9520 non-null   object\n",
      "dtypes: int64(3), object(5)\n",
      "memory usage: 595.1+ KB\n"
     ]
    }
   ],
   "source": [
    "inmuebles.info()"
   ]
  },
  {
   "cell_type": "code",
   "execution_count": 10,
   "metadata": {},
   "outputs": [
    {
     "data": {
      "text/plain": [
       "Tipo                                Apartamento\n",
       "Descripcion     Apartamento en venta en Kennedy\n",
       "Habitaciones                                  2\n",
       "Banos                                         1\n",
       "Area                                         42\n",
       "Barrio                                  Kennedy\n",
       "UPZ                             Kennedy Central\n",
       "Valor                             $ 116.100.000\n",
       "Name: 300, dtype: object"
      ]
     },
     "execution_count": 10,
     "metadata": {},
     "output_type": "execute_result"
    }
   ],
   "source": [
    "inmuebles.iloc[300]"
   ]
  },
  {
   "cell_type": "code",
   "execution_count": 13,
   "metadata": {},
   "outputs": [
    {
     "data": {
      "text/html": [
       "<div>\n",
       "<style scoped>\n",
       "    .dataframe tbody tr th:only-of-type {\n",
       "        vertical-align: middle;\n",
       "    }\n",
       "\n",
       "    .dataframe tbody tr th {\n",
       "        vertical-align: top;\n",
       "    }\n",
       "\n",
       "    .dataframe thead th {\n",
       "        text-align: right;\n",
       "    }\n",
       "</style>\n",
       "<table border=\"1\" class=\"dataframe\">\n",
       "  <thead>\n",
       "    <tr style=\"text-align: right;\">\n",
       "      <th></th>\n",
       "      <th>Tipo</th>\n",
       "      <th>Descripcion</th>\n",
       "      <th>Habitaciones</th>\n",
       "      <th>Banos</th>\n",
       "      <th>Area</th>\n",
       "      <th>Barrio</th>\n",
       "      <th>UPZ</th>\n",
       "      <th>Valor</th>\n",
       "    </tr>\n",
       "  </thead>\n",
       "  <tbody>\n",
       "    <tr>\n",
       "      <th>300</th>\n",
       "      <td>Apartamento</td>\n",
       "      <td>Apartamento en venta en Kennedy</td>\n",
       "      <td>2</td>\n",
       "      <td>1</td>\n",
       "      <td>42</td>\n",
       "      <td>Kennedy</td>\n",
       "      <td>Kennedy Central</td>\n",
       "      <td>$ 116.100.000</td>\n",
       "    </tr>\n",
       "    <tr>\n",
       "      <th>301</th>\n",
       "      <td>Apartamento</td>\n",
       "      <td>Apartamento en venta en Chico Norte</td>\n",
       "      <td>2</td>\n",
       "      <td>2</td>\n",
       "      <td>95</td>\n",
       "      <td>Chico Norte</td>\n",
       "      <td>CHAPINERO: Chicó Lago + El Refugio</td>\n",
       "      <td>$ 980.000.000</td>\n",
       "    </tr>\n",
       "    <tr>\n",
       "      <th>302</th>\n",
       "      <td>Apartamento</td>\n",
       "      <td>Apartamento en venta en Kennedy</td>\n",
       "      <td>3</td>\n",
       "      <td>2</td>\n",
       "      <td>54</td>\n",
       "      <td>Kennedy</td>\n",
       "      <td>Kennedy Central</td>\n",
       "      <td>$ 237.000.000</td>\n",
       "    </tr>\n",
       "    <tr>\n",
       "      <th>303</th>\n",
       "      <td>Apartamento</td>\n",
       "      <td>Apartamento en venta en Kennedy</td>\n",
       "      <td>3</td>\n",
       "      <td>2</td>\n",
       "      <td>67</td>\n",
       "      <td>Kennedy</td>\n",
       "      <td>Kennedy Central</td>\n",
       "      <td>$ 320.000.000</td>\n",
       "    </tr>\n",
       "    <tr>\n",
       "      <th>304</th>\n",
       "      <td>Apartamento</td>\n",
       "      <td>Apartamento en venta en Cedritos</td>\n",
       "      <td>4</td>\n",
       "      <td>4</td>\n",
       "      <td>132</td>\n",
       "      <td>Cedritos</td>\n",
       "      <td>Usaquén</td>\n",
       "      <td>$ 530.000.000</td>\n",
       "    </tr>\n",
       "  </tbody>\n",
       "</table>\n",
       "</div>"
      ],
      "text/plain": [
       "            Tipo                          Descripcion  Habitaciones  Banos  \\\n",
       "300  Apartamento      Apartamento en venta en Kennedy             2      1   \n",
       "301  Apartamento  Apartamento en venta en Chico Norte             2      2   \n",
       "302  Apartamento      Apartamento en venta en Kennedy             3      2   \n",
       "303  Apartamento      Apartamento en venta en Kennedy             3      2   \n",
       "304  Apartamento     Apartamento en venta en Cedritos             4      4   \n",
       "\n",
       "     Area       Barrio                                 UPZ          Valor  \n",
       "300    42      Kennedy                     Kennedy Central  $ 116.100.000  \n",
       "301    95  Chico Norte  CHAPINERO: Chicó Lago + El Refugio  $ 980.000.000  \n",
       "302    54      Kennedy                     Kennedy Central  $ 237.000.000  \n",
       "303    67      Kennedy                     Kennedy Central  $ 320.000.000  \n",
       "304   132     Cedritos                             Usaquén  $ 530.000.000  "
      ]
     },
     "execution_count": 13,
     "metadata": {},
     "output_type": "execute_result"
    }
   ],
   "source": [
    "inmuebles.iloc[300:305]"
   ]
  },
  {
   "cell_type": "code",
   "execution_count": 14,
   "metadata": {},
   "outputs": [
    {
     "data": {
      "text/plain": [
       "'$ 116.100.000'"
      ]
     },
     "execution_count": 14,
     "metadata": {},
     "output_type": "execute_result"
    }
   ],
   "source": [
    "inmuebles['Valor'][300]"
   ]
  },
  {
   "cell_type": "code",
   "execution_count": 16,
   "metadata": {},
   "outputs": [
    {
     "data": {
      "text/plain": [
       "pandas.core.series.Series"
      ]
     },
     "execution_count": 16,
     "metadata": {},
     "output_type": "execute_result"
    }
   ],
   "source": [
    "type(inmuebles['Valor'][300:305])"
   ]
  },
  {
   "cell_type": "code",
   "execution_count": 17,
   "metadata": {},
   "outputs": [
    {
     "data": {
      "text/plain": [
       "300     42\n",
       "301     95\n",
       "302     54\n",
       "303     67\n",
       "304    132\n",
       "Name: Area, dtype: int64"
      ]
     },
     "execution_count": 17,
     "metadata": {},
     "output_type": "execute_result"
    }
   ],
   "source": [
    "inmuebles['Area'][300:305]"
   ]
  },
  {
   "cell_type": "code",
   "execution_count": 18,
   "metadata": {},
   "outputs": [
    {
     "data": {
      "text/plain": [
       "146.66470588235293"
      ]
     },
     "execution_count": 18,
     "metadata": {},
     "output_type": "execute_result"
    }
   ],
   "source": [
    "inmuebles.Area.mean()"
   ]
  },
  {
   "cell_type": "code",
   "execution_count": 19,
   "metadata": {},
   "outputs": [
    {
     "data": {
      "text/html": [
       "<div>\n",
       "<style scoped>\n",
       "    .dataframe tbody tr th:only-of-type {\n",
       "        vertical-align: middle;\n",
       "    }\n",
       "\n",
       "    .dataframe tbody tr th {\n",
       "        vertical-align: top;\n",
       "    }\n",
       "\n",
       "    .dataframe thead th {\n",
       "        text-align: right;\n",
       "    }\n",
       "</style>\n",
       "<table border=\"1\" class=\"dataframe\">\n",
       "  <thead>\n",
       "    <tr style=\"text-align: right;\">\n",
       "      <th></th>\n",
       "      <th>Tipo</th>\n",
       "      <th>Descripcion</th>\n",
       "      <th>Habitaciones</th>\n",
       "      <th>Banos</th>\n",
       "      <th>Area</th>\n",
       "      <th>Barrio</th>\n",
       "      <th>UPZ</th>\n",
       "      <th>Valor</th>\n",
       "    </tr>\n",
       "  </thead>\n",
       "  <tbody>\n",
       "    <tr>\n",
       "      <th>8763</th>\n",
       "      <td>Apartamento</td>\n",
       "      <td>Apartamento en venta en Madelena</td>\n",
       "      <td>3</td>\n",
       "      <td>2</td>\n",
       "      <td>51</td>\n",
       "      <td>Madelena</td>\n",
       "      <td>Arborizadora</td>\n",
       "      <td>$ 180.000.000</td>\n",
       "    </tr>\n",
       "    <tr>\n",
       "      <th>3436</th>\n",
       "      <td>Apartamento</td>\n",
       "      <td>Apartamento en venta en Nicolas De Federman</td>\n",
       "      <td>2</td>\n",
       "      <td>2</td>\n",
       "      <td>68</td>\n",
       "      <td>Nicolas De Federman</td>\n",
       "      <td>Teusaquillo</td>\n",
       "      <td>$ 508.000.000</td>\n",
       "    </tr>\n",
       "    <tr>\n",
       "      <th>1992</th>\n",
       "      <td>Apartamento</td>\n",
       "      <td>Apartamento en venta en Barrios Unidos</td>\n",
       "      <td>3</td>\n",
       "      <td>2</td>\n",
       "      <td>71</td>\n",
       "      <td>Barrios Unidos</td>\n",
       "      <td>Los Andes</td>\n",
       "      <td>$ 520.000.000</td>\n",
       "    </tr>\n",
       "    <tr>\n",
       "      <th>5594</th>\n",
       "      <td>Apartamento</td>\n",
       "      <td>Apartamento en venta en Usaquén</td>\n",
       "      <td>2</td>\n",
       "      <td>3</td>\n",
       "      <td>77</td>\n",
       "      <td>Usaquén</td>\n",
       "      <td>Usaquén</td>\n",
       "      <td>$ 445.000.000</td>\n",
       "    </tr>\n",
       "    <tr>\n",
       "      <th>5795</th>\n",
       "      <td>Casa</td>\n",
       "      <td>Casa en venta en Santa Fe</td>\n",
       "      <td>1</td>\n",
       "      <td>2</td>\n",
       "      <td>150</td>\n",
       "      <td>Santa Fe</td>\n",
       "      <td>SANTA FE: Las Nieves + Sagrado Corazón</td>\n",
       "      <td>$ 1.100.000.000</td>\n",
       "    </tr>\n",
       "    <tr>\n",
       "      <th>...</th>\n",
       "      <td>...</td>\n",
       "      <td>...</td>\n",
       "      <td>...</td>\n",
       "      <td>...</td>\n",
       "      <td>...</td>\n",
       "      <td>...</td>\n",
       "      <td>...</td>\n",
       "      <td>...</td>\n",
       "    </tr>\n",
       "    <tr>\n",
       "      <th>73</th>\n",
       "      <td>Apartamento</td>\n",
       "      <td>Apartamento en venta en Usaquén</td>\n",
       "      <td>2</td>\n",
       "      <td>2</td>\n",
       "      <td>80</td>\n",
       "      <td>Usaquén</td>\n",
       "      <td>Usaquén</td>\n",
       "      <td>$ 349.000.000</td>\n",
       "    </tr>\n",
       "    <tr>\n",
       "      <th>36</th>\n",
       "      <td>Apartamento</td>\n",
       "      <td>Apartamento en venta en Villa Alsacia</td>\n",
       "      <td>3</td>\n",
       "      <td>2</td>\n",
       "      <td>75</td>\n",
       "      <td>Villa Alsacia</td>\n",
       "      <td>KENNEDY: Castilla + Bavaria</td>\n",
       "      <td>$ 350.000.000</td>\n",
       "    </tr>\n",
       "    <tr>\n",
       "      <th>4664</th>\n",
       "      <td>Apartamento</td>\n",
       "      <td>Apartamento en venta en Cedritos</td>\n",
       "      <td>1</td>\n",
       "      <td>2</td>\n",
       "      <td>60</td>\n",
       "      <td>Cedritos</td>\n",
       "      <td>Usaquén</td>\n",
       "      <td>$ 331.000.000</td>\n",
       "    </tr>\n",
       "    <tr>\n",
       "      <th>6085</th>\n",
       "      <td>Apartamento</td>\n",
       "      <td>Apartamento en venta en Nicolas De Federman</td>\n",
       "      <td>4</td>\n",
       "      <td>3</td>\n",
       "      <td>184</td>\n",
       "      <td>Nicolas De Federman</td>\n",
       "      <td>Teusaquillo</td>\n",
       "      <td>$ 800.000.000</td>\n",
       "    </tr>\n",
       "    <tr>\n",
       "      <th>4012</th>\n",
       "      <td>Apartamento</td>\n",
       "      <td>Apartamento en venta en Santa Barbara</td>\n",
       "      <td>2</td>\n",
       "      <td>2</td>\n",
       "      <td>66</td>\n",
       "      <td>Santa Barbara</td>\n",
       "      <td>USAQUÉN: Country Club + Santa Bárbara</td>\n",
       "      <td>$ 430.000.000</td>\n",
       "    </tr>\n",
       "  </tbody>\n",
       "</table>\n",
       "<p>100 rows × 8 columns</p>\n",
       "</div>"
      ],
      "text/plain": [
       "             Tipo                                  Descripcion  Habitaciones  \\\n",
       "8763  Apartamento             Apartamento en venta en Madelena             3   \n",
       "3436  Apartamento  Apartamento en venta en Nicolas De Federman             2   \n",
       "1992  Apartamento       Apartamento en venta en Barrios Unidos             3   \n",
       "5594  Apartamento              Apartamento en venta en Usaquén             2   \n",
       "5795         Casa                    Casa en venta en Santa Fe             1   \n",
       "...           ...                                          ...           ...   \n",
       "73    Apartamento              Apartamento en venta en Usaquén             2   \n",
       "36    Apartamento        Apartamento en venta en Villa Alsacia             3   \n",
       "4664  Apartamento             Apartamento en venta en Cedritos             1   \n",
       "6085  Apartamento  Apartamento en venta en Nicolas De Federman             4   \n",
       "4012  Apartamento        Apartamento en venta en Santa Barbara             2   \n",
       "\n",
       "      Banos  Area               Barrio  \\\n",
       "8763      2    51             Madelena   \n",
       "3436      2    68  Nicolas De Federman   \n",
       "1992      2    71       Barrios Unidos   \n",
       "5594      3    77              Usaquén   \n",
       "5795      2   150             Santa Fe   \n",
       "...     ...   ...                  ...   \n",
       "73        2    80              Usaquén   \n",
       "36        2    75        Villa Alsacia   \n",
       "4664      2    60             Cedritos   \n",
       "6085      3   184  Nicolas De Federman   \n",
       "4012      2    66        Santa Barbara   \n",
       "\n",
       "                                         UPZ            Valor  \n",
       "8763                            Arborizadora    $ 180.000.000  \n",
       "3436                             Teusaquillo    $ 508.000.000  \n",
       "1992                               Los Andes    $ 520.000.000  \n",
       "5594                                 Usaquén    $ 445.000.000  \n",
       "5795  SANTA FE: Las Nieves + Sagrado Corazón  $ 1.100.000.000  \n",
       "...                                      ...              ...  \n",
       "73                                   Usaquén    $ 349.000.000  \n",
       "36               KENNEDY: Castilla + Bavaria    $ 350.000.000  \n",
       "4664                                 Usaquén    $ 331.000.000  \n",
       "6085                             Teusaquillo    $ 800.000.000  \n",
       "4012   USAQUÉN: Country Club + Santa Bárbara    $ 430.000.000  \n",
       "\n",
       "[100 rows x 8 columns]"
      ]
     },
     "execution_count": 19,
     "metadata": {},
     "output_type": "execute_result"
    }
   ],
   "source": [
    "inmuebles.sample(100)"
   ]
  },
  {
   "cell_type": "code",
   "execution_count": 22,
   "metadata": {},
   "outputs": [
    {
     "data": {
      "text/plain": [
       "0       False\n",
       "1       False\n",
       "2        True\n",
       "3       False\n",
       "4       False\n",
       "        ...  \n",
       "9515    False\n",
       "9516    False\n",
       "9517    False\n",
       "9518    False\n",
       "9519    False\n",
       "Name: Barrio, Length: 9520, dtype: bool"
      ]
     },
     "execution_count": 22,
     "metadata": {},
     "output_type": "execute_result"
    }
   ],
   "source": [
    "(inmuebles.Barrio == 'Chico Reservado')"
   ]
  },
  {
   "cell_type": "code",
   "execution_count": 23,
   "metadata": {},
   "outputs": [
    {
     "data": {
      "text/plain": [
       "225"
      ]
     },
     "execution_count": 23,
     "metadata": {},
     "output_type": "execute_result"
    }
   ],
   "source": [
    " sum((inmuebles.Barrio == 'Chico Reservado'))"
   ]
  },
  {
   "cell_type": "code",
   "execution_count": 24,
   "metadata": {},
   "outputs": [
    {
     "data": {
      "text/plain": [
       "pandas.core.series.Series"
      ]
     },
     "execution_count": 24,
     "metadata": {},
     "output_type": "execute_result"
    }
   ],
   "source": [
    "inmuebles_chico = (inmuebles.Barrio == 'Chico Reservado')\n",
    "type(inmuebles_chico)"
   ]
  },
  {
   "cell_type": "code",
   "execution_count": 26,
   "metadata": {},
   "outputs": [
    {
     "data": {
      "text/html": [
       "<div>\n",
       "<style scoped>\n",
       "    .dataframe tbody tr th:only-of-type {\n",
       "        vertical-align: middle;\n",
       "    }\n",
       "\n",
       "    .dataframe tbody tr th {\n",
       "        vertical-align: top;\n",
       "    }\n",
       "\n",
       "    .dataframe thead th {\n",
       "        text-align: right;\n",
       "    }\n",
       "</style>\n",
       "<table border=\"1\" class=\"dataframe\">\n",
       "  <thead>\n",
       "    <tr style=\"text-align: right;\">\n",
       "      <th></th>\n",
       "      <th>Tipo</th>\n",
       "      <th>Descripcion</th>\n",
       "      <th>Habitaciones</th>\n",
       "      <th>Banos</th>\n",
       "      <th>Area</th>\n",
       "      <th>Barrio</th>\n",
       "      <th>UPZ</th>\n",
       "      <th>Valor</th>\n",
       "    </tr>\n",
       "  </thead>\n",
       "  <tbody>\n",
       "    <tr>\n",
       "      <th>2</th>\n",
       "      <td>Apartamento</td>\n",
       "      <td>Apartamento en venta en Chico Reservado</td>\n",
       "      <td>3</td>\n",
       "      <td>3</td>\n",
       "      <td>144</td>\n",
       "      <td>Chico Reservado</td>\n",
       "      <td>CHAPINERO: Chicó Lago + El Refugio</td>\n",
       "      <td>$ 1.120.000.000</td>\n",
       "    </tr>\n",
       "    <tr>\n",
       "      <th>39</th>\n",
       "      <td>Apartamento</td>\n",
       "      <td>Apartamento en venta en Chico Reservado</td>\n",
       "      <td>1</td>\n",
       "      <td>1</td>\n",
       "      <td>64</td>\n",
       "      <td>Chico Reservado</td>\n",
       "      <td>CHAPINERO: Chicó Lago + El Refugio</td>\n",
       "      <td>$ 495.000.000</td>\n",
       "    </tr>\n",
       "    <tr>\n",
       "      <th>72</th>\n",
       "      <td>Apartamento</td>\n",
       "      <td>Apartamento en venta en Chico Reservado</td>\n",
       "      <td>1</td>\n",
       "      <td>1</td>\n",
       "      <td>64</td>\n",
       "      <td>Chico Reservado</td>\n",
       "      <td>CHAPINERO: Chicó Lago + El Refugio</td>\n",
       "      <td>$ 495.000.000</td>\n",
       "    </tr>\n",
       "    <tr>\n",
       "      <th>126</th>\n",
       "      <td>Apartamento</td>\n",
       "      <td>Apartamento en venta en Chico Reservado</td>\n",
       "      <td>3</td>\n",
       "      <td>4</td>\n",
       "      <td>150</td>\n",
       "      <td>Chico Reservado</td>\n",
       "      <td>CHAPINERO: Chicó Lago + El Refugio</td>\n",
       "      <td>$ 1.300.000.000</td>\n",
       "    </tr>\n",
       "    <tr>\n",
       "      <th>143</th>\n",
       "      <td>Apartamento</td>\n",
       "      <td>Apartamento en venta en Chico Reservado</td>\n",
       "      <td>2</td>\n",
       "      <td>4</td>\n",
       "      <td>104</td>\n",
       "      <td>Chico Reservado</td>\n",
       "      <td>CHAPINERO: Chicó Lago + El Refugio</td>\n",
       "      <td>$ 1.100.000.000</td>\n",
       "    </tr>\n",
       "    <tr>\n",
       "      <th>...</th>\n",
       "      <td>...</td>\n",
       "      <td>...</td>\n",
       "      <td>...</td>\n",
       "      <td>...</td>\n",
       "      <td>...</td>\n",
       "      <td>...</td>\n",
       "      <td>...</td>\n",
       "      <td>...</td>\n",
       "    </tr>\n",
       "    <tr>\n",
       "      <th>9299</th>\n",
       "      <td>Apartamento</td>\n",
       "      <td>Apartamento en venta en Chico Reservado</td>\n",
       "      <td>3</td>\n",
       "      <td>3</td>\n",
       "      <td>148</td>\n",
       "      <td>Chico Reservado</td>\n",
       "      <td>CHAPINERO: Chicó Lago + El Refugio</td>\n",
       "      <td>$ 780.000.000</td>\n",
       "    </tr>\n",
       "    <tr>\n",
       "      <th>9335</th>\n",
       "      <td>Apartamento</td>\n",
       "      <td>Apartamento en venta en Chico Reservado</td>\n",
       "      <td>3</td>\n",
       "      <td>3</td>\n",
       "      <td>176</td>\n",
       "      <td>Chico Reservado</td>\n",
       "      <td>CHAPINERO: Chicó Lago + El Refugio</td>\n",
       "      <td>$ 850.000.000</td>\n",
       "    </tr>\n",
       "    <tr>\n",
       "      <th>9341</th>\n",
       "      <td>Apartamento</td>\n",
       "      <td>Apartamento en venta en Chico Reservado</td>\n",
       "      <td>2</td>\n",
       "      <td>3</td>\n",
       "      <td>118</td>\n",
       "      <td>Chico Reservado</td>\n",
       "      <td>CHAPINERO: Chicó Lago + El Refugio</td>\n",
       "      <td>$ 700.000.000</td>\n",
       "    </tr>\n",
       "    <tr>\n",
       "      <th>9472</th>\n",
       "      <td>Apartamento</td>\n",
       "      <td>Apartamento en venta en Chico Reservado</td>\n",
       "      <td>3</td>\n",
       "      <td>1</td>\n",
       "      <td>49</td>\n",
       "      <td>Chico Reservado</td>\n",
       "      <td>CHAPINERO: Chicó Lago + El Refugio</td>\n",
       "      <td>$ 200.000.000</td>\n",
       "    </tr>\n",
       "    <tr>\n",
       "      <th>9506</th>\n",
       "      <td>Apartamento</td>\n",
       "      <td>Apartamento en venta en Chico Reservado</td>\n",
       "      <td>3</td>\n",
       "      <td>4</td>\n",
       "      <td>390</td>\n",
       "      <td>Chico Reservado</td>\n",
       "      <td>CHAPINERO: Chicó Lago + El Refugio</td>\n",
       "      <td>$ 3.200.000.000</td>\n",
       "    </tr>\n",
       "  </tbody>\n",
       "</table>\n",
       "<p>225 rows × 8 columns</p>\n",
       "</div>"
      ],
      "text/plain": [
       "             Tipo                              Descripcion  Habitaciones  \\\n",
       "2     Apartamento  Apartamento en venta en Chico Reservado             3   \n",
       "39    Apartamento  Apartamento en venta en Chico Reservado             1   \n",
       "72    Apartamento  Apartamento en venta en Chico Reservado             1   \n",
       "126   Apartamento  Apartamento en venta en Chico Reservado             3   \n",
       "143   Apartamento  Apartamento en venta en Chico Reservado             2   \n",
       "...           ...                                      ...           ...   \n",
       "9299  Apartamento  Apartamento en venta en Chico Reservado             3   \n",
       "9335  Apartamento  Apartamento en venta en Chico Reservado             3   \n",
       "9341  Apartamento  Apartamento en venta en Chico Reservado             2   \n",
       "9472  Apartamento  Apartamento en venta en Chico Reservado             3   \n",
       "9506  Apartamento  Apartamento en venta en Chico Reservado             3   \n",
       "\n",
       "      Banos  Area           Barrio                                 UPZ  \\\n",
       "2         3   144  Chico Reservado  CHAPINERO: Chicó Lago + El Refugio   \n",
       "39        1    64  Chico Reservado  CHAPINERO: Chicó Lago + El Refugio   \n",
       "72        1    64  Chico Reservado  CHAPINERO: Chicó Lago + El Refugio   \n",
       "126       4   150  Chico Reservado  CHAPINERO: Chicó Lago + El Refugio   \n",
       "143       4   104  Chico Reservado  CHAPINERO: Chicó Lago + El Refugio   \n",
       "...     ...   ...              ...                                 ...   \n",
       "9299      3   148  Chico Reservado  CHAPINERO: Chicó Lago + El Refugio   \n",
       "9335      3   176  Chico Reservado  CHAPINERO: Chicó Lago + El Refugio   \n",
       "9341      3   118  Chico Reservado  CHAPINERO: Chicó Lago + El Refugio   \n",
       "9472      1    49  Chico Reservado  CHAPINERO: Chicó Lago + El Refugio   \n",
       "9506      4   390  Chico Reservado  CHAPINERO: Chicó Lago + El Refugio   \n",
       "\n",
       "                Valor  \n",
       "2     $ 1.120.000.000  \n",
       "39      $ 495.000.000  \n",
       "72      $ 495.000.000  \n",
       "126   $ 1.300.000.000  \n",
       "143   $ 1.100.000.000  \n",
       "...               ...  \n",
       "9299    $ 780.000.000  \n",
       "9335    $ 850.000.000  \n",
       "9341    $ 700.000.000  \n",
       "9472    $ 200.000.000  \n",
       "9506  $ 3.200.000.000  \n",
       "\n",
       "[225 rows x 8 columns]"
      ]
     },
     "execution_count": 26,
     "metadata": {},
     "output_type": "execute_result"
    }
   ],
   "source": [
    "chico_reservado = inmuebles[inmuebles_chico]\n",
    "chico_reservado"
   ]
  },
  {
   "cell_type": "code",
   "execution_count": 27,
   "metadata": {},
   "outputs": [
    {
     "data": {
      "text/plain": [
       "142.78666666666666"
      ]
     },
     "execution_count": 27,
     "metadata": {},
     "output_type": "execute_result"
    }
   ],
   "source": [
    "chico_reservado.Area.mean()"
   ]
  },
  {
   "cell_type": "code",
   "execution_count": 28,
   "metadata": {},
   "outputs": [
    {
     "data": {
      "text/plain": [
       "146.66470588235293"
      ]
     },
     "execution_count": 28,
     "metadata": {},
     "output_type": "execute_result"
    }
   ],
   "source": [
    "inmuebles.Area.mean()"
   ]
  },
  {
   "cell_type": "code",
   "execution_count": 31,
   "metadata": {},
   "outputs": [
    {
     "data": {
      "text/plain": [
       "149"
      ]
     },
     "execution_count": 31,
     "metadata": {},
     "output_type": "execute_result"
    }
   ],
   "source": [
    "len(inmuebles.Barrio.value_counts())"
   ]
  },
  {
   "cell_type": "code",
   "execution_count": 32,
   "metadata": {},
   "outputs": [
    {
     "data": {
      "text/plain": [
       "Usaquén               1105\n",
       "Zona Noroccidental     877\n",
       "Bosa                   589\n",
       "Kennedy                589\n",
       "Cedritos               554\n",
       "                      ... \n",
       "Colinas De Suba          1\n",
       "La Estanzuela            1\n",
       "Roma                     1\n",
       "Alameda                  1\n",
       "Prado Veraniego          1\n",
       "Name: Barrio, Length: 149, dtype: int64"
      ]
     },
     "execution_count": 32,
     "metadata": {},
     "output_type": "execute_result"
    }
   ],
   "source": [
    "inmuebles.Barrio.value_counts()"
   ]
  },
  {
   "cell_type": "code",
   "execution_count": 33,
   "metadata": {},
   "outputs": [
    {
     "data": {
      "text/plain": [
       "Usaquén                                  1681\n",
       "CHAPINERO: Pardo Rubio + Chapinero       1274\n",
       "USAQUÉN: Country Club + Santa Bárbara     771\n",
       "Bosa Central                              591\n",
       "Kennedy Central                           589\n",
       "                                         ... \n",
       "Localidad Usme resto                        2\n",
       "Las Cruces                                  2\n",
       "La Macarena                                 1\n",
       "Fontibón San Pablo                          1\n",
       "Zona Franca                                 1\n",
       "Name: UPZ, Length: 63, dtype: int64"
      ]
     },
     "execution_count": 33,
     "metadata": {},
     "output_type": "execute_result"
    }
   ],
   "source": [
    "inmuebles.UPZ.value_counts()"
   ]
  },
  {
   "cell_type": "code",
   "execution_count": 34,
   "metadata": {},
   "outputs": [
    {
     "data": {
      "text/plain": [
       "63"
      ]
     },
     "execution_count": 34,
     "metadata": {},
     "output_type": "execute_result"
    }
   ],
   "source": [
    "len(inmuebles.UPZ.value_counts())"
   ]
  },
  {
   "cell_type": "code",
   "execution_count": 42,
   "metadata": {},
   "outputs": [
    {
     "data": {
      "text/plain": [
       "<Axes: >"
      ]
     },
     "execution_count": 42,
     "metadata": {},
     "output_type": "execute_result"
    },
    {
     "data": {
      "image/png": "[encoded data removed]",
      "text/plain": [
       "<Figure size 640x480 with 1 Axes>"
      ]
     },
     "metadata": {},
     "output_type": "display_data"
    }
   ],
   "source": [
    "inmuebles_barrio = inmuebles.Barrio.value_counts()\n",
    "inmuebles_barrio.plot.bar()"
   ]
  },
  {
   "cell_type": "code",
   "execution_count": 48,
   "metadata": {},
   "outputs": [
    {
     "data": {
      "text/plain": [
       "<Axes: ylabel='Barrio'>"
      ]
     },
     "execution_count": 48,
     "metadata": {},
     "output_type": "execute_result"
    },
    {
     "data": {
      "image/png": "[encoded data removed]",
      "text/plain": [
       "<Figure size 640x480 with 1 Axes>"
      ]
     },
     "metadata": {},
     "output_type": "display_data"
    }
   ],
   "source": [
    "inmuebles_barrio.head(10).plot.pie()"
   ]
  },
  {
   "cell_type": "code",
   "execution_count": null,
   "metadata": {},
   "outputs": [],
   "source": []
  }
 ],
 "metadata": {
  "kernelspec": {
   "display_name": "Python 3",
   "language": "python",
   "name": "python3"
  },
  "language_info": {
   "codemirror_mode": {
    "name": "ipython",
    "version": 3
   },
   "file_extension": ".py",
   "mimetype": "text/x-python",
   "name": "python",
   "nbconvert_exporter": "python",
   "pygments_lexer": "ipython3",
   "version": "3.11.2"
  },
  "orig_nbformat": 4
 },
 "nbformat": 4,
 "nbformat_minor": 2
}
